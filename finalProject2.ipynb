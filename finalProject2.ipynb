{
 "cells": [
  {
   "cell_type": "code",
   "execution_count": 6,
   "id": "stupid-marshall",
   "metadata": {},
   "outputs": [],
   "source": [
    "import numpy as np\n",
    "from sklearn import datasets"
   ]
  },
  {
   "cell_type": "code",
   "execution_count": 7,
   "id": "regional-evanescence",
   "metadata": {},
   "outputs": [],
   "source": [
    "iris = datasets.load_iris()\n",
    "irisX = iris.data\n",
    "irisY = iris.target"
   ]
  },
  {
   "cell_type": "code",
   "execution_count": 8,
   "id": "daily-invalid",
   "metadata": {},
   "outputs": [],
   "source": [
    "breasC = datasets.load_breast_cancer()\n",
    "breasX = breasC.data\n",
    "breasY = breasC.target"
   ]
  },
  {
   "cell_type": "code",
   "execution_count": 9,
   "id": "nuclear-royalty",
   "metadata": {},
   "outputs": [],
   "source": [
    "optidigits = datasets.load_digits()\n",
    "optidigitsX = optidigits.data\n",
    "optidigitsY = optidigits.target"
   ]
  },
  {
   "cell_type": "code",
   "execution_count": 10,
   "id": "sunrise-completion",
   "metadata": {},
   "outputs": [],
   "source": [
    "yeastTxt = open(\"yeast.data\", \"r\")\n",
    "yeastLines = yeastTxt.readlines()\n",
    "firstData = []\n",
    "trainData = []\n",
    "lastData = []\n",
    "for line in yeastLines:\n",
    "    line = line.replace(\"\\n\", \"\")\n",
    "    split = line.split(\"  \")\n",
    "    firstData.append(split[0])\n",
    "    lastData.append(split[-1])\n",
    "    trainData.append([split[1], split[2], split[3], split[4], split[5], split[6], split[7], split[8]])\n",
    "    \n",
    "yeastFirst = np.asarray(firstData)\n",
    "yeastX = np.asarray(trainData)\n",
    "yeastLast = np.asarray(lastData)"
   ]
  },
  {
   "cell_type": "code",
   "execution_count": 12,
   "id": "adjacent-sector",
   "metadata": {},
   "outputs": [],
   "source": [
    "from sklearn.cluster import AgglomerativeClustering\n",
    "import numpy as np"
   ]
  },
  {
   "cell_type": "code",
   "execution_count": 20,
   "id": "controversial-teddy",
   "metadata": {},
   "outputs": [
    {
     "data": {
      "text/plain": [
       "array([1, 1, 1, 1, 1, 1, 1, 1, 1, 1, 1, 1, 1, 1, 1, 1, 1, 1, 1, 1, 1, 1,\n",
       "       1, 1, 1, 1, 1, 1, 1, 1, 1, 1, 1, 1, 1, 1, 1, 1, 1, 1, 1, 1, 1, 1,\n",
       "       1, 1, 1, 1, 1, 1, 0, 0, 0, 0, 0, 0, 0, 0, 0, 0, 0, 0, 0, 0, 0, 0,\n",
       "       0, 0, 0, 0, 0, 0, 0, 0, 0, 0, 0, 0, 0, 0, 0, 0, 0, 0, 0, 0, 0, 0,\n",
       "       0, 0, 0, 0, 0, 0, 0, 0, 0, 0, 0, 0, 0, 0, 0, 0, 0, 0, 0, 0, 0, 0,\n",
       "       0, 0, 0, 0, 0, 0, 0, 2, 0, 0, 0, 0, 0, 0, 0, 0, 0, 0, 0, 0, 0, 2,\n",
       "       0, 0, 0, 0, 0, 0, 0, 0, 0, 0, 0, 0, 0, 0, 0, 0, 0, 0], dtype=int64)"
      ]
     },
     "execution_count": 20,
     "metadata": {},
     "output_type": "execute_result"
    }
   ],
   "source": [
    "SLclustering = AgglomerativeClustering(n_clusters = 3, linkage = \"single\").fit(irisX)\n",
    "SLclustering.labels_"
   ]
  },
  {
   "cell_type": "code",
   "execution_count": 21,
   "id": "attractive-attempt",
   "metadata": {},
   "outputs": [
    {
     "data": {
      "text/plain": [
       "array([1, 1, 1, 1, 1, 1, 1, 1, 1, 1, 1, 1, 1, 1, 1, 1, 1, 1, 1, 1, 1, 1,\n",
       "       1, 1, 1, 1, 1, 1, 1, 1, 1, 1, 1, 1, 1, 1, 1, 1, 1, 1, 1, 1, 1, 1,\n",
       "       1, 1, 1, 1, 1, 1, 0, 0, 0, 0, 0, 0, 0, 0, 0, 0, 0, 0, 0, 0, 0, 0,\n",
       "       0, 0, 0, 0, 0, 0, 0, 0, 0, 0, 0, 0, 0, 0, 0, 0, 0, 0, 0, 0, 0, 0,\n",
       "       0, 0, 0, 0, 0, 0, 0, 0, 0, 0, 0, 0, 2, 0, 2, 2, 2, 2, 0, 2, 2, 2,\n",
       "       2, 2, 2, 0, 0, 2, 2, 2, 2, 0, 2, 0, 2, 0, 2, 2, 0, 0, 2, 2, 2, 2,\n",
       "       2, 0, 2, 2, 2, 2, 0, 2, 2, 2, 0, 2, 2, 2, 0, 2, 2, 0], dtype=int64)"
      ]
     },
     "execution_count": 21,
     "metadata": {},
     "output_type": "execute_result"
    }
   ],
   "source": [
    "ALclustering = AgglomerativeClustering(n_clusters = 3, linkage = \"average\").fit(irisX)\n",
    "ALclustering.labels_"
   ]
  },
  {
   "cell_type": "code",
   "execution_count": 22,
   "id": "romance-arrow",
   "metadata": {},
   "outputs": [],
   "source": [
    "def create_coassociation_matrix(labels):\n",
    "    rows = []\n",
    "    cols = []\n",
    "    unique_labels = set(labels)\n",
    "    for label in unique_labels:\n",
    "        indices = np.where(labels == label)[0]\n",
    "        for index1 in indices:\n",
    "            for index2 in indices:\n",
    "                rows.append(index1)\n",
    "                cols.append(index2)\n",
    "                \n",
    "    data = np.ones((len(rows),))\n",
    "    return csr_matrix((data, (rows, cols)), dtype='float')"
   ]
  },
  {
   "cell_type": "code",
   "execution_count": 23,
   "id": "retained-cause",
   "metadata": {},
   "outputs": [],
   "source": [
    "C = create_coassociation_matrix(ALclustering.labels_)"
   ]
  },
  {
   "cell_type": "code",
   "execution_count": 37,
   "id": "geological-attraction",
   "metadata": {},
   "outputs": [
    {
     "data": {
      "text/plain": [
       "'mst = minimum_spanning_tree(C)\\nmst = minimum_spanning_tree(-C)\\n\\nPipeline.fit(documents)\\nlabels2 = pipeline.predict(documents)\\nC2 = create_coassociation_matrix(labels2)\\nC_sum = (C + C2) / 2\\n\\nmst = minimum_spanning_tree(-C_sum)\\nmst.data[mst.data > -1] = 0\\n\\n\\nnumber_of_clusters, labels = connected_components(mst)'"
      ]
     },
     "execution_count": 37,
     "metadata": {},
     "output_type": "execute_result"
    }
   ],
   "source": [
    "\"\"\"mst = minimum_spanning_tree(C)\n",
    "mst = minimum_spanning_tree(-C)\n",
    "\n",
    "Pipeline.fit(documents)\n",
    "labels2 = pipeline.predict(documents)\n",
    "C2 = create_coassociation_matrix(labels2)\n",
    "C_sum = (C + C2) / 2\n",
    "\n",
    "mst = minimum_spanning_tree(-C_sum)\n",
    "mst.data[mst.data > -1] = 0\n",
    "\n",
    "\n",
    "number_of_clusters, labels = connected_components(mst)\"\"\""
   ]
  },
  {
   "cell_type": "code",
   "execution_count": 35,
   "id": "accomplished-setting",
   "metadata": {},
   "outputs": [],
   "source": [
    "from sklearn.base import BaseEstimator, ClusterMixin\n",
    "from scipy.sparse.csgraph import connected_components\n",
    "from sklearn.cluster import KMeans\n",
    "from scipy.sparse import csr_matrix\n",
    "from scipy.sparse.csgraph import minimum_spanning_tree\n",
    "from sklearn.pipeline import Pipeline"
   ]
  },
  {
   "cell_type": "code",
   "execution_count": 36,
   "id": "convertible-duncan",
   "metadata": {},
   "outputs": [],
   "source": [
    "class EAC(BaseEstimator, ClusterMixin):\n",
    "    def __init__(self, n_clusterings=10, cut_threshold=0.5, n_clusters_range=(3, 10)):\n",
    "        self.n_clusterings = n_clusterings\n",
    "        self.cut_threshold = cut_threshold\n",
    "        self.n_clusters_range = n_clusters_range\n",
    "    \n",
    "    def fit(self, X, y=None):\n",
    "        \n",
    "        C = sum((create_coassociation_matrix(self._single_clustering(X)) for i in range(self.n_clusterings)))\n",
    "        mst = minimum_spanning_tree(-C)\n",
    "        mst.data[mst.data > -self.cut_threshold] = 0\n",
    "        self.n_components, self.labels_ = connected_components(mst)\n",
    "        return self\n",
    "\n",
    "    def _single_clustering(self, X):\n",
    "        n_clusters = np.random.randint(*self.n_clusters_range)\n",
    "        km = KMeans(n_clusters=n_clusters)\n",
    "        return km.fit_predict(X)"
   ]
  },
  {
   "cell_type": "code",
   "execution_count": 33,
   "id": "spectacular-distribution",
   "metadata": {},
   "outputs": [],
   "source": [
    "eacClass = EAC()"
   ]
  },
  {
   "cell_type": "code",
   "execution_count": 34,
   "id": "through-conducting",
   "metadata": {},
   "outputs": [
    {
     "data": {
      "text/plain": [
       "EAC()"
      ]
     },
     "execution_count": 34,
     "metadata": {},
     "output_type": "execute_result"
    }
   ],
   "source": [
    "eacClass.fit(irisX)"
   ]
  },
  {
   "cell_type": "code",
   "execution_count": null,
   "id": "regulated-survey",
   "metadata": {},
   "outputs": [],
   "source": []
  }
 ],
 "metadata": {
  "kernelspec": {
   "display_name": "graph",
   "language": "python",
   "name": "graph"
  },
  "language_info": {
   "codemirror_mode": {
    "name": "ipython",
    "version": 3
   },
   "file_extension": ".py",
   "mimetype": "text/x-python",
   "name": "python",
   "nbconvert_exporter": "python",
   "pygments_lexer": "ipython3",
   "version": "3.7.4"
  }
 },
 "nbformat": 4,
 "nbformat_minor": 5
}
