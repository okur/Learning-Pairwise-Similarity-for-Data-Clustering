{
 "cells": [
  {
   "cell_type": "code",
   "execution_count": 6,
   "id": "adverse-boston",
   "metadata": {},
   "outputs": [],
   "source": [
    "import numpy as np\n",
    "from sklearn import datasets"
   ]
  },
  {
   "cell_type": "code",
   "execution_count": 7,
   "id": "familiar-stopping",
   "metadata": {},
   "outputs": [],
   "source": [
    "iris = datasets.load_iris()\n",
    "irisX = iris.data\n",
    "irisY = iris.target"
   ]
  },
  {
   "cell_type": "code",
   "execution_count": 8,
   "id": "intense-selection",
   "metadata": {},
   "outputs": [],
   "source": [
    "breasC = datasets.load_breast_cancer()\n",
    "breasX = breasC.data\n",
    "breasY = breasC.target"
   ]
  },
  {
   "cell_type": "code",
   "execution_count": 9,
   "id": "electrical-involvement",
   "metadata": {},
   "outputs": [],
   "source": [
    "optidigits = datasets.load_digits()\n",
    "optidigitsX = optidigits.data\n",
    "optidigitsY = optidigits.target"
   ]
  },
  {
   "cell_type": "code",
   "execution_count": 10,
   "id": "macro-blink",
   "metadata": {},
   "outputs": [],
   "source": [
    "yeastTxt = open(\"yeast.data\", \"r\")\n",
    "yeastLines = yeastTxt.readlines()\n",
    "firstData = []\n",
    "trainData = []\n",
    "lastData = []\n",
    "for line in yeastLines:\n",
    "    line = line.replace(\"\\n\", \"\")\n",
    "    split = line.split(\"  \")\n",
    "    firstData.append(split[0])\n",
    "    lastData.append(split[-1])\n",
    "    trainData.append([split[1], split[2], split[3], split[4], split[5], split[6], split[7], split[8]])\n",
    "    \n",
    "yeastFirst = np.asarray(firstData)\n",
    "yeastX = np.asarray(trainData)\n",
    "yeastLast = np.asarray(lastData)"
   ]
  },
  {
   "cell_type": "code",
   "execution_count": 12,
   "id": "biblical-treasurer",
   "metadata": {},
   "outputs": [],
   "source": [
    "from sklearn.cluster import AgglomerativeClustering\n",
    "import numpy as np"
   ]
  },
  {
   "cell_type": "code",
   "execution_count": 14,
   "id": "portuguese-personal",
   "metadata": {},
   "outputs": [
    {
     "data": {
      "text/plain": [
       "array([1, 1, 1, 1, 1, 1, 1, 1, 1, 1, 1, 1, 1, 1, 1, 1, 1, 1, 1, 1, 1, 1,\n",
       "       1, 1, 1, 1, 1, 1, 1, 1, 1, 1, 1, 1, 1, 1, 1, 1, 1, 1, 1, 1, 1, 1,\n",
       "       1, 1, 1, 1, 1, 1, 0, 0, 0, 0, 0, 0, 0, 0, 0, 0, 0, 0, 0, 0, 0, 0,\n",
       "       0, 0, 0, 0, 0, 0, 0, 0, 0, 0, 0, 0, 0, 0, 0, 0, 0, 0, 0, 0, 0, 0,\n",
       "       0, 0, 0, 0, 0, 0, 0, 0, 0, 0, 0, 0, 0, 0, 0, 0, 0, 0, 0, 0, 0, 0,\n",
       "       0, 0, 0, 0, 0, 0, 0, 0, 0, 0, 0, 0, 0, 0, 0, 0, 0, 0, 0, 0, 0, 0,\n",
       "       0, 0, 0, 0, 0, 0, 0, 0, 0, 0, 0, 0, 0, 0, 0, 0, 0, 0], dtype=int64)"
      ]
     },
     "execution_count": 14,
     "metadata": {},
     "output_type": "execute_result"
    }
   ],
   "source": [
    "clustering = AgglomerativeClustering(linkage = \"single\").fit(irisX)\n",
    "clustering.labels_"
   ]
  },
  {
   "cell_type": "code",
   "execution_count": 29,
   "id": "german-houston",
   "metadata": {},
   "outputs": [],
   "source": []
  },
  {
   "cell_type": "code",
   "execution_count": null,
   "id": "infrared-store",
   "metadata": {},
   "outputs": [],
   "source": []
  }
 ],
 "metadata": {
  "kernelspec": {
   "display_name": "graph",
   "language": "python",
   "name": "graph"
  },
  "language_info": {
   "codemirror_mode": {
    "name": "ipython",
    "version": 3
   },
   "file_extension": ".py",
   "mimetype": "text/x-python",
   "name": "python",
   "nbconvert_exporter": "python",
   "pygments_lexer": "ipython3",
   "version": "3.7.4"
  }
 },
 "nbformat": 4,
 "nbformat_minor": 5
}
