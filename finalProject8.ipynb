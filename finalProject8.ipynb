{
 "cells": [
  {
   "cell_type": "code",
   "execution_count": 1,
   "id": "frequent-contract",
   "metadata": {},
   "outputs": [],
   "source": [
    "import numpy as np\n",
    "from sklearn import datasets\n",
    "from sklearn.cluster import AgglomerativeClustering, KMeans, SpectralClustering\n",
    "from sklearn.base import BaseEstimator, ClusterMixin\n",
    "from scipy.sparse.csgraph import connected_components\n",
    "from scipy.sparse import csr_matrix\n",
    "from scipy.sparse.csgraph import minimum_spanning_tree\n",
    "from sklearn.pipeline import Pipeline\n",
    "import matplotlib.pyplot as plt\n",
    "from scipy.cluster.hierarchy import fcluster,dendrogram,linkage\n",
    "from scipy.cluster import hierarchy\n",
    "import itertools"
   ]
  },
  {
   "cell_type": "code",
   "execution_count": 2,
   "id": "closed-india",
   "metadata": {},
   "outputs": [],
   "source": [
    "# Load iris dataset and seperate it to features and labels\n",
    "iris = datasets.load_iris()\n",
    "irisX = iris.data\n",
    "irisY = iris.target"
   ]
  },
  {
   "cell_type": "code",
   "execution_count": 3,
   "id": "quantitative-reward",
   "metadata": {},
   "outputs": [],
   "source": [
    "# Load breast cancer dataset and seperate it to features and labels\n",
    "breastC = datasets.load_breast_cancer()\n",
    "breastX = breastC.data\n",
    "breastY = breastC.target"
   ]
  },
  {
   "cell_type": "code",
   "execution_count": 4,
   "id": "chicken-theta",
   "metadata": {},
   "outputs": [],
   "source": [
    "# Load optidigits dataset and seperate it to features and labels\n",
    "optidigits = datasets.load_digits()\n",
    "optidigitsX = optidigits.data\n",
    "optidigitsY = optidigits.target"
   ]
  },
  {
   "cell_type": "code",
   "execution_count": 5,
   "id": "turned-metabolism",
   "metadata": {},
   "outputs": [],
   "source": [
    "# Load yeast dataset and seperate it to features and labels\n",
    "yeastTxt = open(\"yeast.data\", \"r\")\n",
    "yeastLines = yeastTxt.readlines()\n",
    "firstData = []\n",
    "trainData = []\n",
    "lastData = []\n",
    "for line in yeastLines:\n",
    "    line = line.replace(\"\\n\", \"\")\n",
    "    split = line.split(\"  \")\n",
    "    firstData.append(split[0])\n",
    "    lastData.append(split[-1])\n",
    "    trainData.append([split[1], split[2], split[3], split[4], split[5], split[6], split[7], split[8]])\n",
    "    \n",
    "yeastFirst = np.asarray(firstData)\n",
    "yeastX = np.asarray(trainData)\n",
    "yeastLast = np.asarray(lastData)"
   ]
  },
  {
   "cell_type": "code",
   "execution_count": 6,
   "id": "chemical-istanbul",
   "metadata": {},
   "outputs": [],
   "source": [
    "# creating coassociation matrix \n",
    "def create_coassociation_matrix(labels):\n",
    "    rows = []\n",
    "    cols = []\n",
    "    unique_labels = set(labels)\n",
    "    for label in unique_labels:\n",
    "        indices = np.where(labels == label)[0]\n",
    "        for index1 in indices:\n",
    "            for index2 in indices:\n",
    "                rows.append(index1)\n",
    "                cols.append(index2)\n",
    "                \n",
    "    data = np.ones((len(rows),))\n",
    "    return csr_matrix((data, (rows, cols)), dtype='float')"
   ]
  },
  {
   "cell_type": "code",
   "execution_count": 8,
   "id": "another-writing",
   "metadata": {},
   "outputs": [],
   "source": [
    "def overall_quality(y,y_hat):\n",
    "    return np.mean(y == y_hat) * 100 "
   ]
  },
  {
   "cell_type": "code",
   "execution_count": 7,
   "id": "sixth-worth",
   "metadata": {},
   "outputs": [],
   "source": [
    "# Class of Multi Evidence Accumulation Cluster which has different kind of clustering algorithm\n",
    "# such as kmeans single link and average link methods\n",
    "class multiEAC(BaseEstimator, ClusterMixin):\n",
    "    def __init__(self, cut_threshold=0.5):\n",
    "        self.cut_threshold = cut_threshold\n",
    "        self.parameters = parameters\n",
    "        self.parameters_SC = parameters_SC\n",
    "        self.methods = [\"single\", \"average\"]\n",
    "    def fit(self, X, y=None, method = None):\n",
    "        \n",
    "        for method in self.methods:\n",
    "            coassociation_algorithms = []\n",
    "            for i in self.parameters:\n",
    "                coassociation_algorithms.append(create_coassociation_matrix(self._kmeans_clustering(X,i)))\n",
    "                coassociation_algorithms.append(create_coassociation_matrix(self._singleLink_clustering(X,i)))\n",
    "            for i in self.parameters_SC:\n",
    "                coassociation_algorithms.append(create_coassociation_matrix(self._spectral_clustering(X, i)))\n",
    "\n",
    "            C = sum(coassociation_algorithms)\n",
    "\n",
    "            # get the average of the similarity mat\n",
    "            avgC = np.divide(C.toarray(), (len(self.parameters)*2 + len(self.parameters_SC)))\n",
    "\n",
    "            # flip the similarity. smaller value implies more similarity\n",
    "            avgC = np.abs(np.max(avgC) - avgC)\n",
    "\n",
    "            # build clusters\n",
    "            self.Z_ = linkage(avgC, method = method)\n",
    "\n",
    "            # Calculate the number of clusters using cluster lifetime from the dendrogram\n",
    "            # The longest lifetime is choosen as number of cluster.\n",
    "            self.dn = dendrogram(self.Z_, no_plot = True)\n",
    "            distance_set = set()\n",
    "            for i in self.dn['dcoord']:\n",
    "                distance_set = distance_set.union(set(i))\n",
    "            distances = list(distance_set)\n",
    "            distances.sort(reverse=True)\n",
    "            lifetime_dict = {}\n",
    "            k = 2\n",
    "            for i in range(len(distances)-1):\n",
    "                lifetime_dict[k] = distances[i] - distances[i+1]\n",
    "                k += 1\n",
    "            self.n_clusters = sorted(lifetime_dict.items(), key=lambda x: x[1], reverse=True)[0][0]\n",
    "            self.labels_ = hierarchy.cut_tree(self.Z_, self.n_clusters).reshape(-1,)\n",
    "        \n",
    "        \"\"\"\n",
    "        mst = minimum_spanning_tree(-C)\n",
    "        mst.data[mst.data > -self.cut_threshold] = 0\n",
    "        self.n_components, self.labels_ = connected_components(mst)\n",
    "        self.coassociation_matrix = coassociation_algorithms\n",
    "        \"\"\"\n",
    "        return self\n",
    "\n",
    "    def _kmeans_clustering(self, X, k):\n",
    "        km = KMeans(n_clusters=k)\n",
    "        return km.fit_predict(X)\n",
    "    \n",
    "    def _averageLink_clustering(self, X, k):\n",
    "        alCluster = AgglomerativeClustering(n_clusters = k, linkage = \"average\")\n",
    "        alCluster.fit(X)\n",
    "        return alCluster.labels_\n",
    "    \n",
    "    def _singleLink_clustering(self, X, k):\n",
    "        slCluster = AgglomerativeClustering(n_clusters = k, linkage = \"single\")\n",
    "        slCluster.fit(X)\n",
    "        return slCluster.labels_\n",
    "    \n",
    "    def _spectral_clustering(self, X, parameters):\n",
    "        sc = SpectralClustering(n_clusters=parameters[0])\n",
    "        return sc.fit_predict(X)"
   ]
  },
  {
   "cell_type": "code",
   "execution_count": 142,
   "id": "dried-asian",
   "metadata": {},
   "outputs": [
    {
     "data": {
      "text/plain": [
       "array([[0],\n",
       "       [1],\n",
       "       [2],\n",
       "       [3],\n",
       "       [4],\n",
       "       [5]])"
      ]
     },
     "execution_count": 142,
     "metadata": {},
     "output_type": "execute_result"
    },
    {
     "data": {
      "image/png": "[encoded data removed]",
      "text/plain": [
       "<Figure size 432x288 with 1 Axes>"
      ]
     },
     "metadata": {
      "needs_background": "light"
     },
     "output_type": "display_data"
    }
   ],
   "source": [
    "ytdist = np.array([662., 877., 255., 412., 996., 295., 468., 268.,\n",
    "                   400., 754., 564., 138., 219., 869., 669.])\n",
    "Z = linkage(ytdist, 'single')\n",
    "plt.figure()\n",
    "dn = dendrogram(Z)\n",
    "distance_set = set()\n",
    "for i in dn['dcoord']:\n",
    "    distance_set = distance_set.union(set(i))\n",
    "distances = list(distance_set)\n",
    "distances.sort(reverse=True)\n",
    "lifetime_dict = {}\n",
    "k = 2\n",
    "for i in range(len(distances)-1):\n",
    "    lifetime_dict[k] = distances[i] - distances[i+1]\n",
    "    k += 1\n",
    "lifetime_dict\n",
    "k = sorted(lifetime_dict.items(), key=lambda x: x[1], reverse=True)[0][0]\n",
    "labels= fcluster(Z,t=k)\n",
    "hierarchy.cut_tree(Z,k)"
   ]
  },
  {
   "cell_type": "code",
   "execution_count": 138,
   "id": "covered-knight",
   "metadata": {},
   "outputs": [
    {
     "data": {
      "image/png": "[encoded data removed]",
      "text/plain": [
       "<Figure size 2880x720 with 1 Axes>"
      ]
     },
     "metadata": {
      "needs_background": "light"
     },
     "output_type": "display_data"
    },
    {
     "data": {
      "text/plain": [
       "(150, 1)"
      ]
     },
     "execution_count": 138,
     "metadata": {},
     "output_type": "execute_result"
    }
   ],
   "source": [
    "eac1.Z_.shape\n",
    "fig = plt.figure(figsize=(40, 10))\n",
    "dn = dendrogram(eac1.Z_, get_leaves=True)\n",
    "plt.show()\n",
    "distance_set = set()\n",
    "for i in dn['dcoord']:\n",
    "    distance_set = distance_set.union(set(i))\n",
    "distances = list(distance_set)\n",
    "distances.sort(reverse=True)\n",
    "lifetime_dict = {}\n",
    "k = 2\n",
    "for i in range(len(distances)-1):\n",
    "    lifetime_dict[k] = distances[i] - distances[i+1]\n",
    "    k += 1\n",
    "lifetime_dict\n",
    "k = sorted(lifetime_dict.items(), key=lambda x: x[1], reverse=True)[0][0]"
   ]
  },
  {
   "cell_type": "code",
   "execution_count": 141,
   "id": "shared-right",
   "metadata": {},
   "outputs": [
    {
     "data": {
      "text/plain": [
       "array([[0],\n",
       "       [0],\n",
       "       [0],\n",
       "       [0],\n",
       "       [0],\n",
       "       [0],\n",
       "       [0],\n",
       "       [0],\n",
       "       [0],\n",
       "       [0],\n",
       "       [0],\n",
       "       [0],\n",
       "       [0],\n",
       "       [0],\n",
       "       [0],\n",
       "       [0],\n",
       "       [0],\n",
       "       [0],\n",
       "       [0],\n",
       "       [0],\n",
       "       [0],\n",
       "       [0],\n",
       "       [0],\n",
       "       [0],\n",
       "       [0],\n",
       "       [0],\n",
       "       [0],\n",
       "       [0],\n",
       "       [0],\n",
       "       [0],\n",
       "       [0],\n",
       "       [0],\n",
       "       [0],\n",
       "       [0],\n",
       "       [0],\n",
       "       [0],\n",
       "       [0],\n",
       "       [0],\n",
       "       [0],\n",
       "       [0],\n",
       "       [0],\n",
       "       [0],\n",
       "       [0],\n",
       "       [0],\n",
       "       [0],\n",
       "       [0],\n",
       "       [0],\n",
       "       [0],\n",
       "       [0],\n",
       "       [0],\n",
       "       [1],\n",
       "       [1],\n",
       "       [1],\n",
       "       [1],\n",
       "       [1],\n",
       "       [1],\n",
       "       [1],\n",
       "       [2],\n",
       "       [1],\n",
       "       [1],\n",
       "       [2],\n",
       "       [1],\n",
       "       [1],\n",
       "       [1],\n",
       "       [1],\n",
       "       [1],\n",
       "       [1],\n",
       "       [1],\n",
       "       [1],\n",
       "       [1],\n",
       "       [1],\n",
       "       [1],\n",
       "       [1],\n",
       "       [1],\n",
       "       [1],\n",
       "       [1],\n",
       "       [1],\n",
       "       [1],\n",
       "       [1],\n",
       "       [1],\n",
       "       [1],\n",
       "       [1],\n",
       "       [1],\n",
       "       [1],\n",
       "       [1],\n",
       "       [1],\n",
       "       [1],\n",
       "       [1],\n",
       "       [1],\n",
       "       [1],\n",
       "       [1],\n",
       "       [1],\n",
       "       [1],\n",
       "       [2],\n",
       "       [1],\n",
       "       [1],\n",
       "       [1],\n",
       "       [1],\n",
       "       [2],\n",
       "       [1],\n",
       "       [1],\n",
       "       [1],\n",
       "       [1],\n",
       "       [1],\n",
       "       [1],\n",
       "       [1],\n",
       "       [2],\n",
       "       [1],\n",
       "       [1],\n",
       "       [1],\n",
       "       [1],\n",
       "       [1],\n",
       "       [1],\n",
       "       [1],\n",
       "       [1],\n",
       "       [1],\n",
       "       [1],\n",
       "       [1],\n",
       "       [1],\n",
       "       [1],\n",
       "       [1],\n",
       "       [1],\n",
       "       [1],\n",
       "       [1],\n",
       "       [1],\n",
       "       [1],\n",
       "       [1],\n",
       "       [1],\n",
       "       [1],\n",
       "       [1],\n",
       "       [1],\n",
       "       [1],\n",
       "       [1],\n",
       "       [1],\n",
       "       [1],\n",
       "       [1],\n",
       "       [1],\n",
       "       [1],\n",
       "       [1],\n",
       "       [1],\n",
       "       [1],\n",
       "       [1],\n",
       "       [1],\n",
       "       [1],\n",
       "       [1],\n",
       "       [1],\n",
       "       [1],\n",
       "       [1],\n",
       "       [1],\n",
       "       [1]])"
      ]
     },
     "execution_count": 141,
     "metadata": {},
     "output_type": "execute_result"
    }
   ],
   "source": [
    "hierarchy.cut_tree(eac1.Z_,3)"
   ]
  },
  {
   "cell_type": "code",
   "execution_count": 164,
   "id": "resistant-hamburg",
   "metadata": {},
   "outputs": [
    {
     "name": "stdout",
     "output_type": "stream",
     "text": [
      "68.66666666666667\n"
     ]
    },
    {
     "name": "stderr",
     "output_type": "stream",
     "text": [
      "/opt/anaconda3/lib/python3.7/site-packages/ipykernel_launcher.py:39: ClusterWarning: scipy.cluster: The symmetric non-negative hollow observation matrix looks suspiciously like an uncondensed distance matrix\n"
     ]
    },
    {
     "data": {
      "text/plain": [
       "array([0, 0, 0, 0, 0, 0, 0, 0, 0, 0, 0, 0, 0, 0, 0, 0, 0, 0, 0, 0, 0, 0,\n",
       "       0, 0, 0, 0, 0, 0, 0, 0, 0, 0, 0, 0, 0, 0, 0, 0, 0, 0, 0, 0, 0, 0,\n",
       "       0, 0, 0, 0, 0, 0, 2, 2, 2, 2, 2, 2, 2, 1, 2, 2, 1, 2, 2, 2, 2, 2,\n",
       "       2, 2, 2, 2, 2, 2, 2, 2, 2, 2, 2, 2, 2, 2, 2, 2, 2, 2, 2, 2, 2, 2,\n",
       "       2, 2, 2, 2, 2, 1, 2, 2, 2, 2, 1, 2, 2, 2, 2, 2, 2, 2, 1, 2, 2, 2,\n",
       "       2, 2, 2, 2, 2, 2, 2, 2, 2, 2, 2, 2, 2, 2, 2, 2, 2, 2, 2, 2, 2, 2,\n",
       "       2, 2, 2, 2, 2, 2, 2, 2, 2, 2, 2, 2, 2, 2, 2, 2, 2, 2], dtype=int32)"
      ]
     },
     "execution_count": 164,
     "metadata": {},
     "output_type": "execute_result"
    }
   ],
   "source": [
    "# For iris dataset\n",
    "k = [3,5,10,12,15]\n",
    "parameters_SC = []\n",
    "eac1 = EAC(k, parameters_SC, cut_threshold=0.9)\n",
    "eac1.fit(irisX)\n",
    "print(overall_quality(irisY, (eac1.labels_-1)))\n",
    "eac1.labels_-1"
   ]
  },
  {
   "cell_type": "code",
   "execution_count": 155,
   "id": "popular-devices",
   "metadata": {},
   "outputs": [
    {
     "name": "stdout",
     "output_type": "stream",
     "text": [
      "66.66666666666666\n"
     ]
    },
    {
     "name": "stderr",
     "output_type": "stream",
     "text": [
      "/opt/anaconda3/lib/python3.7/site-packages/ipykernel_launcher.py:39: ClusterWarning: scipy.cluster: The symmetric non-negative hollow observation matrix looks suspiciously like an uncondensed distance matrix\n"
     ]
    },
    {
     "data": {
      "text/plain": [
       "array([0, 0, 0, 0, 0, 0, 0, 0, 0, 0, 0, 0, 0, 0, 0, 0, 0, 0, 0, 0, 0, 0,\n",
       "       0, 0, 0, 0, 0, 0, 0, 0, 0, 0, 0, 0, 0, 0, 0, 0, 0, 0, 0, 0, 0, 0,\n",
       "       0, 0, 0, 0, 0, 0, 1, 1, 1, 1, 1, 1, 1, 1, 1, 1, 1, 1, 1, 1, 1, 1,\n",
       "       1, 1, 1, 1, 1, 1, 1, 1, 1, 1, 1, 1, 1, 1, 1, 1, 1, 1, 1, 1, 1, 1,\n",
       "       1, 1, 1, 1, 1, 1, 1, 1, 1, 1, 1, 1, 1, 1, 1, 1, 1, 1, 1, 1, 1, 1,\n",
       "       1, 1, 1, 1, 1, 1, 1, 1, 1, 1, 1, 1, 1, 1, 1, 1, 1, 1, 1, 1, 1, 1,\n",
       "       1, 1, 1, 1, 1, 1, 1, 1, 1, 1, 1, 1, 1, 1, 1, 1, 1, 1])"
      ]
     },
     "execution_count": 155,
     "metadata": {},
     "output_type": "execute_result"
    }
   ],
   "source": [
    "# For iris dataset\n",
    "k = [3,5,10,12,15]\n",
    "parameters_SC = []\n",
    "eac1 = EAC(k, parameters_SC, use_lifetime=True, cut_threshold=0.9)\n",
    "eac1.fit(irisX)\n",
    "print(overall_quality(irisY, (eac1.labels_)))\n",
    "eac1.labels_"
   ]
  },
  {
   "cell_type": "code",
   "execution_count": 156,
   "id": "radio-appeal",
   "metadata": {},
   "outputs": [
    {
     "name": "stdout",
     "output_type": "stream",
     "text": [
      "68.66666666666667\n"
     ]
    },
    {
     "name": "stderr",
     "output_type": "stream",
     "text": [
      "/opt/anaconda3/lib/python3.7/site-packages/ipykernel_launcher.py:39: ClusterWarning: scipy.cluster: The symmetric non-negative hollow observation matrix looks suspiciously like an uncondensed distance matrix\n"
     ]
    },
    {
     "data": {
      "text/plain": [
       "array([0, 0, 0, 0, 0, 0, 0, 0, 0, 0, 0, 0, 0, 0, 0, 0, 0, 0, 0, 0, 0, 0,\n",
       "       0, 0, 0, 0, 0, 0, 0, 0, 0, 0, 0, 0, 0, 0, 0, 0, 0, 0, 0, 0, 0, 0,\n",
       "       0, 0, 0, 0, 0, 0, 2, 2, 2, 2, 2, 2, 2, 1, 2, 2, 1, 2, 2, 2, 2, 2,\n",
       "       2, 2, 2, 2, 2, 2, 2, 2, 2, 2, 2, 2, 2, 2, 2, 2, 2, 2, 2, 2, 2, 2,\n",
       "       2, 2, 2, 2, 2, 1, 2, 2, 2, 2, 1, 2, 2, 2, 2, 2, 2, 2, 1, 2, 2, 2,\n",
       "       2, 2, 2, 2, 2, 2, 2, 2, 2, 2, 2, 2, 2, 2, 2, 2, 2, 2, 2, 2, 2, 2,\n",
       "       2, 2, 2, 2, 2, 2, 2, 2, 2, 2, 2, 2, 2, 2, 2, 2, 2, 2], dtype=int32)"
      ]
     },
     "execution_count": 156,
     "metadata": {},
     "output_type": "execute_result"
    }
   ],
   "source": [
    "# For iris dataset\n",
    "k = [3,5,10,12,15]\n",
    "parameters_SC = [(3,0.1), (12,0.1)]\n",
    "eac2 = EAC(k, parameters_SC, cut_threshold=0.1)\n",
    "eac2.fit(irisX)\n",
    "print(overall_quality(irisY, (eac2.labels_ - 1)))\n",
    "(eac2.labels_ - 1)"
   ]
  },
  {
   "cell_type": "code",
   "execution_count": 158,
   "id": "electoral-walnut",
   "metadata": {},
   "outputs": [
    {
     "name": "stdout",
     "output_type": "stream",
     "text": [
      "66.66666666666666\n"
     ]
    },
    {
     "name": "stderr",
     "output_type": "stream",
     "text": [
      "/opt/anaconda3/lib/python3.7/site-packages/ipykernel_launcher.py:39: ClusterWarning: scipy.cluster: The symmetric non-negative hollow observation matrix looks suspiciously like an uncondensed distance matrix\n"
     ]
    },
    {
     "data": {
      "text/plain": [
       "array([0, 0, 0, 0, 0, 0, 0, 0, 0, 0, 0, 0, 0, 0, 0, 0, 0, 0, 0, 0, 0, 0,\n",
       "       0, 0, 0, 0, 0, 0, 0, 0, 0, 0, 0, 0, 0, 0, 0, 0, 0, 0, 0, 0, 0, 0,\n",
       "       0, 0, 0, 0, 0, 0, 1, 1, 1, 1, 1, 1, 1, 1, 1, 1, 1, 1, 1, 1, 1, 1,\n",
       "       1, 1, 1, 1, 1, 1, 1, 1, 1, 1, 1, 1, 1, 1, 1, 1, 1, 1, 1, 1, 1, 1,\n",
       "       1, 1, 1, 1, 1, 1, 1, 1, 1, 1, 1, 1, 1, 1, 1, 1, 1, 1, 1, 1, 1, 1,\n",
       "       1, 1, 1, 1, 1, 1, 1, 1, 1, 1, 1, 1, 1, 1, 1, 1, 1, 1, 1, 1, 1, 1,\n",
       "       1, 1, 1, 1, 1, 1, 1, 1, 1, 1, 1, 1, 1, 1, 1, 1, 1, 1])"
      ]
     },
     "execution_count": 158,
     "metadata": {},
     "output_type": "execute_result"
    }
   ],
   "source": [
    "# For iris dataset\n",
    "k = [3,5,10,12,15]\n",
    "parameters_SC = [(3,0.1), (12,0.1)]\n",
    "eac2 = EAC(k, parameters_SC, use_lifetime=True, cut_threshold=0.1)\n",
    "eac2.fit(irisX)\n",
    "print(overall_quality(irisY, (eac2.labels_)))\n",
    "(eac2.labels_)"
   ]
  },
  {
   "cell_type": "code",
   "execution_count": 34,
   "id": "honey-transition",
   "metadata": {},
   "outputs": [
    {
     "name": "stdout",
     "output_type": "stream",
     "text": [
      "62.91739894551846\n"
     ]
    },
    {
     "name": "stderr",
     "output_type": "stream",
     "text": [
      "/opt/anaconda3/lib/python3.7/site-packages/ipykernel_launcher.py:37: ClusterWarning: scipy.cluster: The symmetric non-negative hollow observation matrix looks suspiciously like an uncondensed distance matrix\n"
     ]
    },
    {
     "data": {
      "text/plain": [
       "array([0, 0, 0, 0, 0, 0, 0, 0, 0, 0, 0, 0, 0, 0, 0, 0, 0, 0, 0, 1, 1, 1,\n",
       "       0, 0, 0, 0, 0, 0, 0, 0, 0, 0, 0, 0, 0, 0, 0, 1, 0, 0, 0, 0, 0, 0,\n",
       "       0, 0, 1, 0, 1, 1, 1, 1, 1, 0, 0, 1, 0, 0, 1, 1, 1, 1, 0, 1, 0, 0,\n",
       "       1, 1, 1, 1, 0, 1, 0, 0, 1, 0, 1, 0, 0, 1, 1, 1, 0, 0, 1, 0, 0, 0,\n",
       "       1, 1, 1, 0, 1, 1, 0, 0, 1, 1, 1, 0, 0, 1, 1, 1, 1, 0, 1, 1, 0, 1,\n",
       "       1, 1, 1, 1, 1, 1, 1, 0, 0, 0, 1, 0, 0, 1, 1, 1, 0, 0, 1, 0, 1, 0,\n",
       "       0, 1, 0, 0, 1, 1, 0, 1, 1, 0, 1, 1, 1, 1, 0, 1, 1, 1, 1, 1, 1, 1,\n",
       "       1, 1, 0, 1, 1, 1, 1, 0, 0, 1, 0, 1, 1, 0, 0, 1, 1, 0, 0, 1, 1, 1,\n",
       "       1, 0, 1, 1, 0, 0, 0, 1, 0, 1, 0, 1, 1, 1, 0, 1, 1, 0, 0, 1, 0, 0,\n",
       "       0, 0, 1, 0, 0, 0, 1, 0, 1, 0, 1, 1, 0, 1, 0, 0, 0, 0, 1, 1, 0, 0,\n",
       "       1, 1, 1, 0, 1, 1, 1, 1, 1, 0, 0, 1, 1, 0, 1, 1, 0, 0, 1, 0, 1, 1,\n",
       "       1, 1, 0, 1, 1, 1, 1, 1, 0, 1, 0, 0, 0, 0, 0, 0, 0, 0, 0, 0, 0, 0,\n",
       "       0, 0, 1, 1, 1, 1, 1, 1, 0, 1, 0, 1, 1, 0, 1, 1, 0, 1, 0, 0, 1, 1,\n",
       "       1, 1, 1, 1, 1, 1, 1, 1, 1, 1, 1, 0, 1, 1, 0, 1, 0, 1, 1, 1, 1, 1,\n",
       "       1, 1, 1, 1, 1, 1, 1, 1, 1, 0, 1, 1, 1, 0, 1, 0, 1, 1, 1, 1, 0, 0,\n",
       "       0, 1, 1, 1, 1, 0, 1, 0, 1, 0, 1, 1, 1, 0, 1, 1, 1, 1, 1, 1, 1, 0,\n",
       "       0, 0, 1, 1, 1, 1, 1, 1, 1, 1, 1, 1, 1, 0, 0, 1, 0, 0, 0, 1, 0, 0,\n",
       "       1, 1, 1, 1, 1, 0, 1, 1, 1, 1, 1, 0, 1, 1, 1, 0, 1, 1, 0, 0, 1, 1,\n",
       "       1, 1, 1, 1, 0, 1, 1, 1, 1, 1, 1, 1, 0, 1, 1, 1, 1, 1, 0, 1, 1, 0,\n",
       "       1, 1, 1, 1, 1, 1, 1, 1, 1, 1, 1, 1, 0, 1, 0, 0, 1, 0, 1, 1, 1, 1,\n",
       "       1, 0, 1, 1, 0, 1, 0, 1, 1, 0, 1, 0, 1, 1, 1, 1, 1, 1, 1, 1, 0, 0,\n",
       "       1, 1, 1, 1, 1, 1, 0, 1, 1, 1, 1, 1, 1, 1, 1, 1, 1, 0, 1, 1, 1, 1,\n",
       "       1, 1, 1, 0, 1, 0, 1, 1, 0, 1, 1, 1, 1, 1, 0, 0, 1, 0, 1, 0, 1, 1,\n",
       "       1, 1, 1, 0, 1, 1, 0, 1, 0, 1, 0, 0, 1, 1, 1, 0, 1, 1, 1, 1, 1, 1,\n",
       "       1, 1, 1, 1, 1, 0, 1, 0, 0, 1, 1, 1, 1, 1, 1, 1, 1, 1, 1, 1, 1, 1,\n",
       "       1, 1, 1, 1, 1, 1, 1, 1, 1, 1, 1, 1, 0, 0, 0, 0, 0, 0, 1])"
      ]
     },
     "execution_count": 34,
     "metadata": {},
     "output_type": "execute_result"
    }
   ],
   "source": [
    "# For Breast-C dataset\n",
    "k = [2, 3, 5, 10]\n",
    "parameters_SC = []\n",
    "eac3 = EAC(k, parameters_SC, cut_threshold = 0.5)\n",
    "eac3.fit(breasX)\n",
    "print(overall_quality(breasY, np.abs(eac3.labels_ - 2)))\n",
    "eac3.labels_\n",
    "breasY"
   ]
  },
  {
   "cell_type": "code",
   "execution_count": null,
   "id": "expressed-smile",
   "metadata": {},
   "outputs": [],
   "source": []
  }
 ],
 "metadata": {
  "kernelspec": {
   "display_name": "graph",
   "language": "python",
   "name": "graph"
  },
  "language_info": {
   "codemirror_mode": {
    "name": "ipython",
    "version": 3
   },
   "file_extension": ".py",
   "mimetype": "text/x-python",
   "name": "python",
   "nbconvert_exporter": "python",
   "pygments_lexer": "ipython3",
   "version": "3.7.4"
  }
 },
 "nbformat": 4,
 "nbformat_minor": 5
}
